{
  "nbformat": 4,
  "nbformat_minor": 0,
  "metadata": {
    "colab": {
      "provenance": []
    },
    "kernelspec": {
      "name": "python3",
      "display_name": "Python 3"
    },
    "language_info": {
      "name": "python"
    }
  },
  "cells": [
    {
      "cell_type": "code",
      "execution_count": 3,
      "metadata": {
        "colab": {
          "base_uri": "https://localhost:8080/",
          "height": 0
        },
        "id": "KFGzBaE-4o6X",
        "outputId": "54ab4026-d24a-4475-d36e-6afe5142af26"
      },
      "outputs": [
        {
          "output_type": "stream",
          "name": "stdout",
          "text": [
            "\n"
          ]
        }
      ],
      "source": [
        "#1) Write a code to reverse a string\n",
        "str=\"Aaryan Patyal\"\n",
        "rev_str=\"\"\n",
        "for i in str:\n",
        "    new_str=i+new_str\n",
        "print(rev_str)"
      ]
    },
    {
      "cell_type": "code",
      "source": [
        "#2) Write a code to count the number of vowel in a string?\n",
        "str=\"Aaryan Patyal\"\n",
        "count=0\n",
        "for i in str:\n",
        "    if i in ['a','e','i','o','u','A','E','I','O','U']:\n",
        "        count+=1\n",
        "print(count)"
      ],
      "metadata": {
        "colab": {
          "base_uri": "https://localhost:8080/",
          "height": 0
        },
        "id": "h2c-IVg-4tUs",
        "outputId": "52f974f3-a559-4234-f9b4-050b555e460e"
      },
      "execution_count": 5,
      "outputs": [
        {
          "output_type": "stream",
          "name": "stdout",
          "text": [
            "5\n"
          ]
        }
      ]
    },
    {
      "cell_type": "code",
      "source": [
        "#3) Write a code to check if a given string is a palindrome or not?\n",
        "str=\"welcome\"\n",
        "size=len(str)\n",
        "j=size-1\n",
        "flag=True\n",
        "for i in range(0,size//2):\n",
        "    if str[i]!=str[j]:\n",
        "        flag=False\n",
        "        break\n",
        "\n",
        "if(flag):\n",
        "    print(\"It is palindrome\")\n",
        "else:\n",
        "    print(\"Its not palindrome\")"
      ],
      "metadata": {
        "id": "nOzqGZy057JG",
        "outputId": "eba64069-a2f6-4d07-c687-1275980a2f29",
        "colab": {
          "base_uri": "https://localhost:8080/",
          "height": 0
        }
      },
      "execution_count": 9,
      "outputs": [
        {
          "output_type": "stream",
          "name": "stdout",
          "text": [
            "Its not palindrome\n"
          ]
        }
      ]
    },
    {
      "cell_type": "code",
      "source": [
        "#4) Write a code to check if two given string are anagram of each other?\n",
        "str1=\"listen\"\n",
        "str2=\"silent\"\n",
        "if sorted(str1)==sorted(str2):\n",
        "    print(\"True\")\n",
        "else:\n",
        "    print(\"False\")"
      ],
      "metadata": {
        "id": "Hy3_kRQx6qqz",
        "outputId": "3697753e-9bd5-49be-803c-cb4082589f36",
        "colab": {
          "base_uri": "https://localhost:8080/",
          "height": 0
        }
      },
      "execution_count": 13,
      "outputs": [
        {
          "output_type": "stream",
          "name": "stdout",
          "text": [
            "True\n"
          ]
        }
      ]
    },
    {
      "cell_type": "code",
      "source": [
        "#5) Write a code to find all occurrences of a given substring within another string?\n",
        "str1=\"abracadabra\"\n",
        "str2=\"abra\"\n",
        "list=[]\n",
        "i=0\n",
        "while i<len(str1):\n",
        "    j=str1.find(str2,i)\n",
        "    if(j==-1):\n",
        "        break\n",
        "    list.append(j)\n",
        "    i=j+len(str2)\n",
        "print(list)"
      ],
      "metadata": {
        "id": "8FTsu2AI69eq",
        "outputId": "8fcfdfbc-c870-4486-f40a-89d62ed7da4c",
        "colab": {
          "base_uri": "https://localhost:8080/",
          "height": 0
        }
      },
      "execution_count": 16,
      "outputs": [
        {
          "output_type": "stream",
          "name": "stdout",
          "text": [
            "[0, 7, 0, 7]\n"
          ]
        }
      ]
    },
    {
      "cell_type": "code",
      "source": [
        "#6) Write a code to perform BAsic string compression Using the counts of repeated Chracters.\n",
        "\n",
        "def solve(s):\n",
        "   res = \"\"\n",
        "   cnt = 1\n",
        "   for i in range(1, len(s)):\n",
        "      if s[i - 1] == s[i]:\n",
        "         cnt += 1\n",
        "      else:\n",
        "         res = res + s[i - 1]\n",
        "         if cnt > 1:\n",
        "            res += str(cnt)\n",
        "         cnt = 1\n",
        "   res = res + s[-1]\n",
        "   if cnt > 1:\n",
        "      res += str(cnt)\n",
        "   return res\n",
        "\n",
        "s = \"abbbaaaaaaccdaaab\"\n",
        "print(solve(s))"
      ],
      "metadata": {
        "id": "kYH0cjrP7PDD"
      },
      "execution_count": 27,
      "outputs": []
    },
    {
      "cell_type": "code",
      "source": [
        "#7) Write a code to determine if a string has all unique characters?\n",
        "str1 = \"hutg9mnd!nk9\"\n",
        "seen_chars =  []\n",
        "flag = True\n",
        "\n",
        "for char in str1:\n",
        "    if char in seen_chars:\n",
        "        flag = False\n",
        "        break\n",
        "    else:\n",
        "        seen_chars.append(char)\n",
        "\n",
        "if flag:\n",
        "    print(\"All characters are unique.\")\n",
        "else:\n",
        "    print(\"It does not have all unique characters.\")"
      ],
      "metadata": {
        "id": "3SBUoMbC8QGT",
        "outputId": "0918c38d-6995-485b-88a3-4cb09e201951",
        "colab": {
          "base_uri": "https://localhost:8080/",
          "height": 0
        }
      },
      "execution_count": 29,
      "outputs": [
        {
          "output_type": "stream",
          "name": "stdout",
          "text": [
            "It does not have all unique characters.\n"
          ]
        }
      ]
    },
    {
      "cell_type": "code",
      "source": [
        "#8) Write a code to convert a given string to uppercase or lowercase?\n",
        "str1=\"hanumankind\"\n",
        "str2=\"HANUMANKIND\"\n",
        "str1=str1.upper()\n",
        "str2=str2.lower()\n",
        "print(str1)\n",
        "print(str2)"
      ],
      "metadata": {
        "id": "mQzN-fi39_yz",
        "outputId": "962f360a-2060-4a5b-cb27-6295fafb6ba9",
        "colab": {
          "base_uri": "https://localhost:8080/",
          "height": 0
        }
      },
      "execution_count": 32,
      "outputs": [
        {
          "output_type": "stream",
          "name": "stdout",
          "text": [
            "HANUMANKIND\n",
            "hanumankind\n"
          ]
        }
      ]
    },
    {
      "cell_type": "code",
      "source": [
        "#9) Write a code to count the number of words in a string?\n",
        "\n",
        "str1=\"bjhewvk7895sdbhvjy\"\n",
        "count=0\n",
        "for i in str1:\n",
        "    if i.isalpha():\n",
        "        count+=1\n",
        "print(count)"
      ],
      "metadata": {
        "id": "0zSPuw54-VNy",
        "outputId": "d293173d-18ea-460e-a6b8-e4486f2f1324",
        "colab": {
          "base_uri": "https://localhost:8080/",
          "height": 0
        }
      },
      "execution_count": 33,
      "outputs": [
        {
          "output_type": "stream",
          "name": "stdout",
          "text": [
            "14\n"
          ]
        }
      ]
    },
    {
      "cell_type": "code",
      "source": [
        "#10) Write a code to conacatenate two strings without using the + operator?\n",
        "\n",
        "str1 = \"Hello\"\n",
        "str2 = \"World\"\n",
        "concatenated_string = ''.join([str1, str2])\n",
        "\n",
        "print(concatenated_string)"
      ],
      "metadata": {
        "id": "oYQdhGAe-gE9",
        "outputId": "c7898568-0dae-457a-f8c1-d53984bd684b",
        "colab": {
          "base_uri": "https://localhost:8080/",
          "height": 0
        }
      },
      "execution_count": 34,
      "outputs": [
        {
          "output_type": "stream",
          "name": "stdout",
          "text": [
            "HelloWorld\n"
          ]
        }
      ]
    },
    {
      "cell_type": "code",
      "source": [
        "#11) Write a code to remove all occurrences of a specific element from a list?\n",
        "list=[25,154,78,6,771,6,21,6,7,10]\n",
        "for i in list:\n",
        "    if i==6:\n",
        "        list.remove(i)\n",
        "print(list)"
      ],
      "metadata": {
        "id": "NQdoWM-L-l36",
        "outputId": "6e963bc6-5702-4f0f-ff83-ee26abcbb757",
        "colab": {
          "base_uri": "https://localhost:8080/",
          "height": 0
        }
      },
      "execution_count": 38,
      "outputs": [
        {
          "output_type": "stream",
          "name": "stdout",
          "text": [
            "[25, 154, 78, 771, 21, 7, 10]\n"
          ]
        }
      ]
    },
    {
      "cell_type": "code",
      "source": [
        "#12) Implement a code to find the second largest number in a given list of integers?\n",
        "list=[1,2,3,75,0,6]\n",
        "list.sort()\n",
        "print(list[1])"
      ],
      "metadata": {
        "id": "bXdSprpm-wxD",
        "outputId": "e96f482f-0e7f-4991-9cf5-dc179d6e9770",
        "colab": {
          "base_uri": "https://localhost:8080/",
          "height": 0
        }
      },
      "execution_count": 39,
      "outputs": [
        {
          "output_type": "stream",
          "name": "stdout",
          "text": [
            "1\n"
          ]
        }
      ]
    },
    {
      "cell_type": "code",
      "source": [
        "#13) Create a code to count the occurrences of each element in a list and return a dictionary with elements as keys and their counts as values?\n",
        "list=[12,89,1,5,6,12,5,6,89,12,5,1]\n",
        "dict={}\n",
        "for i in list:\n",
        "    cnt=list.count(i)\n",
        "    dict[i]=cnt\n",
        "print(dict)"
      ],
      "metadata": {
        "id": "Bol-gr17-6tI",
        "outputId": "54ba06af-adb8-4aaa-d782-5e24a41aa976",
        "colab": {
          "base_uri": "https://localhost:8080/",
          "height": 0
        }
      },
      "execution_count": 42,
      "outputs": [
        {
          "output_type": "stream",
          "name": "stdout",
          "text": [
            "{12: 3, 89: 2, 1: 2, 5: 3, 6: 2}\n"
          ]
        }
      ]
    },
    {
      "cell_type": "code",
      "source": [
        "#14) Write a code to reverse a list in-place without using any built-in reverse functions?\n",
        "my_list = [1, 2, 3, 4, 5, 6, 7]\n",
        "\n",
        "left = 0\n",
        "right = len(my_list) - 1\n",
        "\n",
        "while left < right:\n",
        "    my_list[left], my_list[right] = my_list[right], my_list[left]\n",
        "\n",
        "    left += 1\n",
        "    right -= 1\n",
        "\n",
        "print(my_list)\n"
      ],
      "metadata": {
        "id": "yBU5h_uK_BmP",
        "outputId": "8ba75d0f-d9d7-4d78-b126-e5b8efd233cd",
        "colab": {
          "base_uri": "https://localhost:8080/",
          "height": 0
        }
      },
      "execution_count": 45,
      "outputs": [
        {
          "output_type": "stream",
          "name": "stdout",
          "text": [
            "[7, 6, 5, 4, 3, 2, 1]\n"
          ]
        }
      ]
    },
    {
      "cell_type": "code",
      "source": [
        "#15) Implement a code to find and remove duplicates from a list while preserving the original order of elements?\n",
        "\n",
        "my_list = [12, 89, 1, 5, 6, 12, 5, 6, 89, 12, 5, 1]\n",
        "\n",
        "seen = set()\n",
        "\n",
        "unique_list = []\n",
        "\n",
        "for element in my_list:\n",
        "    if element not in seen:\n",
        "        unique_list.append(element)\n",
        "        seen.add(element)\n",
        "\n",
        "print(unique_list)"
      ],
      "metadata": {
        "id": "QS7dhWfz_RM5",
        "outputId": "b7aef600-a4dd-45c7-d0cd-0f090eff0675",
        "colab": {
          "base_uri": "https://localhost:8080/",
          "height": 0
        }
      },
      "execution_count": 47,
      "outputs": [
        {
          "output_type": "stream",
          "name": "stdout",
          "text": [
            "[12, 89, 1, 5, 6]\n"
          ]
        }
      ]
    },
    {
      "cell_type": "code",
      "source": [
        "#16) Create a code to check if a given list is sorted (either in ascending or descending order) or not?\n",
        "def is_sorted(lst):\n",
        "    if len(lst) <= 1:\n",
        "        return True\n",
        "\n",
        "    ascending = True\n",
        "    descending = True\n",
        "\n",
        "    for i in range(len(lst) - 1):\n",
        "        if lst[i] > lst[i + 1]:\n",
        "            ascending = False\n",
        "        if lst[i] < lst[i + 1]:\n",
        "            descending = False\n",
        "\n",
        "    return ascending or descending\n",
        "\n",
        "my_list1 = [1, 2, 3, 4, 5]\n",
        "my_list2 = [5, 4, 3, 2, 1]\n",
        "my_list3 = [1, 3, 2, 4, 5]\n",
        "\n",
        "print(is_sorted(my_list1))\n",
        "print(is_sorted(my_list2))\n",
        "print(is_sorted(my_list3))"
      ],
      "metadata": {
        "id": "xPzFFxNH_qFE",
        "outputId": "c1ca00fe-8691-4cbc-c75b-b53d0261d731",
        "colab": {
          "base_uri": "https://localhost:8080/",
          "height": 0
        }
      },
      "execution_count": 50,
      "outputs": [
        {
          "output_type": "stream",
          "name": "stdout",
          "text": [
            "True\n",
            "True\n",
            "False\n"
          ]
        }
      ]
    },
    {
      "cell_type": "code",
      "source": [
        "#17) Write a code to merge two sorted list into a single sorted list?\n",
        "\n",
        "def merge_sorted_lists(list1, list2):\n",
        "    i, j = 0, 0\n",
        "    merged_list = []\n",
        "\n",
        "    while i < len(list1) and j < len(list2):\n",
        "        if list1[i] < list2[j]:\n",
        "            merged_list.append(list1[i])\n",
        "            i += 1\n",
        "        else:\n",
        "            merged_list.append(list2[j])\n",
        "            j += 1\n",
        "\n",
        "    while i < len(list1):\n",
        "        merged_list.append(list1[i])\n",
        "        i += 1\n",
        "\n",
        "    while j < len(list2):\n",
        "        merged_list.append(list2[j])\n",
        "        j += 1\n",
        "\n",
        "    return merged_list\n",
        "\n",
        "sorted_list1 = [1, 3, 5, 7]\n",
        "sorted_list2 = [2, 4, 6, 8]\n",
        "\n",
        "merged_result = merge_sorted_lists(sorted_list1, sorted_list2)\n",
        "print(merged_result)"
      ],
      "metadata": {
        "id": "splNpz43_6PB",
        "outputId": "76f9f131-1942-4898-8e23-3db766d1ab5a",
        "colab": {
          "base_uri": "https://localhost:8080/",
          "height": 0
        }
      },
      "execution_count": 55,
      "outputs": [
        {
          "output_type": "stream",
          "name": "stdout",
          "text": [
            "[1, 2, 3, 4, 5, 6, 7, 8]\n"
          ]
        }
      ]
    },
    {
      "cell_type": "code",
      "source": [
        "#18) Implement a code to find the intersection of two given list?\n",
        "def find_intersection(list1, list2):\n",
        "    set2 = set(list2)\n",
        "\n",
        "    intersection = [element for element in list1 if element in set2]\n",
        "\n",
        "    seen = set()\n",
        "    intersection_no_duplicates = [x for x in intersection if not (x in seen or seen.add(x))]\n",
        "\n",
        "    return intersection_no_duplicates\n",
        "\n",
        "list1 = [1, 2, 3, 4, 5]\n",
        "list2 = [4, 5, 6, 7, 8]\n",
        "\n",
        "result = find_intersection(list1, list2)\n",
        "print(result)\n"
      ],
      "metadata": {
        "id": "F7EC08HVAFTU",
        "outputId": "514b15d0-a0f5-482d-8afa-76adddcb9179",
        "colab": {
          "base_uri": "https://localhost:8080/",
          "height": 0
        }
      },
      "execution_count": 59,
      "outputs": [
        {
          "output_type": "stream",
          "name": "stdout",
          "text": [
            "[4, 5]\n"
          ]
        }
      ]
    },
    {
      "cell_type": "code",
      "source": [
        "#19) Create a code to find the union of two list without duplicates?\n",
        "def find_union(list1, list2):\n",
        "    seen = set()\n",
        "\n",
        "    union_list = [x for x in list1 + list2 if not (x in seen or seen.add(x))]\n",
        "\n",
        "    return union_list\n",
        "\n",
        "list1 = [1, 2, 3, 4, 5]\n",
        "list2 = [4, 5, 6, 7, 8]\n",
        "\n",
        "result = find_union(list1, list2)\n",
        "print(result)"
      ],
      "metadata": {
        "id": "0fEIEhTSAPpn",
        "outputId": "e2030b98-f20b-45ae-94bb-d9bb490d745f",
        "colab": {
          "base_uri": "https://localhost:8080/",
          "height": 0
        }
      },
      "execution_count": 60,
      "outputs": [
        {
          "output_type": "stream",
          "name": "stdout",
          "text": [
            "[1, 2, 3, 4, 5, 6, 7, 8]\n"
          ]
        }
      ]
    },
    {
      "cell_type": "code",
      "source": [
        "#20) Write a code to shuffle a given list randomly without using any built-in shuffle functions?\n",
        "import random\n",
        "\n",
        "def shuffle_list(lst):\n",
        "    n = len(lst)\n",
        "\n",
        "    for i in range(n - 1, 0, -1):\n",
        "        j = random.randint(0, i)\n",
        "\n",
        "        lst[i], lst[j] = lst[j], lst[i]\n",
        "\n",
        "    return lst\n",
        "\n",
        "my_list = [1, 2, 3, 4, 5, 6, 7, 8, 9]\n",
        "shuffled_list = shuffle_list(my_list)\n",
        "print(shuffled_list)"
      ],
      "metadata": {
        "id": "FoJ4F8xUAbXD",
        "outputId": "b111df03-286e-442c-cb6c-e92b9c9813a2",
        "colab": {
          "base_uri": "https://localhost:8080/",
          "height": 0
        }
      },
      "execution_count": 63,
      "outputs": [
        {
          "output_type": "stream",
          "name": "stdout",
          "text": [
            "[9, 4, 2, 6, 8, 3, 1, 5, 7]\n"
          ]
        }
      ]
    },
    {
      "cell_type": "code",
      "source": [
        "#21) # Function to find common elements between two tuples\n",
        "def common_elements(tuple1, tuple2):\n",
        "\n",
        "\n",
        "    set1 = set(tuple1)\n",
        "    set2 = set(tuple2)\n",
        "\n",
        "    common_set = set1.intersection(set2)\n",
        "\n",
        "    return tuple(common_set)\n",
        "\n",
        "input1 = input(\"Enter the elements of the first tuple, separated by commas: \")\n",
        "tuple1 = tuple(map(int, input1.split(',')))\n",
        "\n",
        "input2 = input(\"Enter the elements of the second tuple, separated by commas: \")\n",
        "tuple2 = tuple(map(int, input2.split(',')))\n",
        "\n",
        "result = common_elements(tuple1, tuple2)\n",
        "print(\"Common elements in both tuples:\", result)"
      ],
      "metadata": {
        "id": "qA25xgr-Aft2",
        "outputId": "712941c3-09f4-4aae-c865-70ef16d911dd",
        "colab": {
          "base_uri": "https://localhost:8080/",
          "height": 0
        }
      },
      "execution_count": 65,
      "outputs": [
        {
          "output_type": "stream",
          "name": "stdout",
          "text": [
            "Enter the elements of the first tuple, separated by commas: 1,2\n",
            "Enter the elements of the second tuple, separated by commas: 2,3\n",
            "Common elements in both tuples: (2,)\n"
          ]
        }
      ]
    },
    {
      "cell_type": "code",
      "source": [
        "#22) Write a code that prompts the user to enter two sets of integers separated by commas.Then, print the intersection of these two sets.\n",
        "def intersection_of_sets(set1, set2):\n",
        "    common_set = set1.intersection(set2)\n",
        "\n",
        "    return sorted(common_set)\n",
        "\n",
        "input1 = input(\"Enter the elements of the first set, separated by commas: \")\n",
        "set1 = set(map(int, input1.split(',')))\n",
        "\n",
        "input2 = input(\"Enter the elements of the second set, separated by commas: \")\n",
        "set2 = set(map(int, input2.split(',')))\n",
        "\n",
        "result = intersection_of_sets(set1, set2)\n",
        "\n",
        "print(\"Intersection of the two sets:\", result)"
      ],
      "metadata": {
        "id": "bjjiYI96Anyn",
        "outputId": "c06a532b-1b86-4693-f7ec-c0c708c7e40b",
        "colab": {
          "base_uri": "https://localhost:8080/",
          "height": 0
        }
      },
      "execution_count": 67,
      "outputs": [
        {
          "output_type": "stream",
          "name": "stdout",
          "text": [
            "Enter the elements of the first set, separated by commas: 1,2,3,4\n",
            "Enter the elements of the second set, separated by commas: 3,4,5,6\n",
            "Intersection of the two sets: [3, 4]\n"
          ]
        }
      ]
    },
    {
      "cell_type": "code",
      "source": [
        "#23) Write a code to concatenate two tuples. The function should take two tuples as input and return a new tuple containing all elements from both tuples.\n",
        "\n",
        "def concatenate_tuples(tuple1, tuple2):\n",
        "    concatenated_tuple = tuple1 + tuple2\n",
        "\n",
        "    return concatenated_tuple\n",
        "\n",
        "def get_tuple_from_user(prompt):\n",
        "    input_string = input(prompt)\n",
        "\n",
        "    user_tuple = tuple(map(int, input_string.split(',')))\n",
        "\n",
        "    return user_tuple\n",
        "\n",
        "tuple1 = get_tuple_from_user(\"Enter the elements of the first tuple, separated by commas: \")\n",
        "\n",
        "tuple2 = get_tuple_from_user(\"Enter the elements of the second tuple, separated by commas: \")\n",
        "\n",
        "result = concatenate_tuples(tuple1, tuple2)\n",
        "\n",
        "print(\"Concatenated tuple:\", result)"
      ],
      "metadata": {
        "id": "XVe7YAtjA5y7",
        "outputId": "54127a2f-b042-4623-8eab-a372b8354a13",
        "colab": {
          "base_uri": "https://localhost:8080/",
          "height": 0
        }
      },
      "execution_count": 71,
      "outputs": [
        {
          "output_type": "stream",
          "name": "stdout",
          "text": [
            "Enter the elements of the first tuple, separated by commas: 1,2,3,4,5,6\n",
            "Enter the elements of the second tuple, separated by commas: 3,4,5,6,7,8\n",
            "Concatenated tuple: (1, 2, 3, 4, 5, 6, 3, 4, 5, 6, 7, 8)\n"
          ]
        }
      ]
    },
    {
      "cell_type": "code",
      "source": [
        "#24 Write a code that prompts the user to input two sets of strings.Then, print the elements that are present in the first set but not in the second set.\n",
        "def difference_of_sets(set1, set2):\n",
        "    difference_set = set1 - set2\n",
        "\n",
        "    return sorted(difference_set)\n",
        "\n",
        "def get_set_from_user(prompt):\n",
        "    input_string = input(prompt)\n",
        "\n",
        "    user_set = set(input_string.split(','))\n",
        "\n",
        "    return user_set\n",
        "\n",
        "set1 = get_set_from_user(\"Enter the elements of the first set of strings\")\n",
        "\n",
        "set2 = get_set_from_user(\"Enter the elements of the second set of strings\")\n",
        "\n",
        "result = difference_of_sets(set1, set2)\n",
        "\n",
        "print(\"Elements in the first set but not in the second set:\", result)"
      ],
      "metadata": {
        "id": "mwQjyONPBLfI",
        "outputId": "37c9d4de-297a-41ca-f1fe-34d522cc10ba",
        "colab": {
          "base_uri": "https://localhost:8080/",
          "height": 0
        }
      },
      "execution_count": 73,
      "outputs": [
        {
          "output_type": "stream",
          "name": "stdout",
          "text": [
            "Enter the elements of the first set of strings1,3,5,7,8\n",
            "Enter the elements of the second set of strings2,4,6,8,10\n",
            "Elements in the first set but not in the second set: ['1', '3', '5', '7']\n"
          ]
        }
      ]
    },
    {
      "cell_type": "code",
      "source": [
        "#25) Write a code that takes a tuple and two integers as input.The function should return a new tuple containing elements from the original tuple\n",
        "# within the specified range of indices (inclusive).\n",
        "\n",
        "def slice_tuple(original_tuple, start_index, end_index):\n",
        "    if start_index < 0:\n",
        "        start_index = 0\n",
        "    if end_index >= len(original_tuple):\n",
        "        end_index = len(original_tuple) - 1\n",
        "    sliced_tuple = original_tuple[start_index:end_index + 1]\n",
        "    return sliced_tuple\n",
        "def get_tuple_from_user(prompt):\n",
        "    input_string = input(prompt)\n",
        "    user_tuple = tuple(map(int, input_string.split(',')))\n",
        "    return user_tuple\n",
        "original_tuple = get_tuple_from_user(\"Enter the elements of the tuple, separated by commas: \")\n",
        "start_index = int(input(\"Enter the start index: \"))\n",
        "end_index = int(input(\"Enter the end index: \"))\n",
        "result = slice_tuple(original_tuple, start_index, end_index)\n",
        "print(\"Sliced tuple:\", result)"
      ],
      "metadata": {
        "id": "dOXiK1_7Bw0m",
        "outputId": "d80cd9a0-246f-4c12-eff0-c4b9b8b8f91e",
        "colab": {
          "base_uri": "https://localhost:8080/",
          "height": 0
        }
      },
      "execution_count": 81,
      "outputs": [
        {
          "output_type": "stream",
          "name": "stdout",
          "text": [
            "Enter the elements of the tuple, separated by commas: 1,2,4,5,6\n",
            "Enter the start index: 2\n",
            "Enter the end index: 5\n",
            "Sliced tuple: (4, 5, 6)\n"
          ]
        }
      ]
    },
    {
      "cell_type": "code",
      "source": [
        "#26 Write a code that prompts the user to input two sets of characters.Th(n print the union of these two sets.\n",
        "\n",
        "def union_of_sets(set1, set2):\n",
        "    union_set = set1 | set2\n",
        "\n",
        "    return sorted(union_set)\n",
        "\n",
        "def get_set_from_user(prompt):\n",
        "    input_string = input(prompt)\n",
        "\n",
        "    user_set = set(input_string.replace(\" \", \"\").split(','))\n",
        "\n",
        "    return user_set\n",
        "\n",
        "set1 = get_set_from_user(\"Enter the elements of the first set of characters, separated by commas: \")\n",
        "\n",
        "set2 = get_set_from_user(\"Enter the elements of the second set of characters, separated by commas: \")\n",
        "\n",
        "result = union_of_sets(set1, set2)\n",
        "\n",
        "print(\"Union of the two sets:\", result)"
      ],
      "metadata": {
        "id": "9S_Vi7soCPJR",
        "outputId": "a20da217-86a1-458f-af4c-fa87ef9691e6",
        "colab": {
          "base_uri": "https://localhost:8080/",
          "height": 0
        }
      },
      "execution_count": 83,
      "outputs": [
        {
          "output_type": "stream",
          "name": "stdout",
          "text": [
            "Enter the elements of the first set of characters, separated by commas: 1,3,5,7,9\n",
            "Enter the elements of the second set of characters, separated by commas: 2,4,6,8,10\n",
            "Union of the two sets: ['1', '10', '2', '3', '4', '5', '6', '7', '8', '9']\n"
          ]
        }
      ]
    },
    {
      "cell_type": "code",
      "source": [
        "#27) Write a code that takes a tuple of integers as input.The function should return the maximum and minimum values from the tuple using tuple unpacking.\n",
        "\n",
        "def find_max_min(numbers_tuple):\n",
        "    if not numbers_tuple:\n",
        "        raise ValueError(\"The tuple is empty, cannot determine max and min values.\")\n",
        "\n",
        "    max_value = max(numbers_tuple)\n",
        "    min_value = min(numbers_tuple)\n",
        "\n",
        "    return max_value, min_value\n",
        "\n",
        "def get_tuple_from_user(prompt):\n",
        "    input_string = input(prompt)\n",
        "\n",
        "    user_tuple = tuple(map(int, input_string.split(',')))\n",
        "\n",
        "    return user_tuple\n",
        "\n",
        "numbers_tuple = get_tuple_from_user(\"Enter the elements of the tuple, separated by commas: \")\n",
        "\n",
        "max_value, min_value = find_max_min(numbers_tuple)\n",
        "\n",
        "print(\"Maximum value:\", max_value)\n",
        "print(\"Minimum value:\", min_value)"
      ],
      "metadata": {
        "id": "MzbgTUDTEj5J",
        "outputId": "6c69ab06-4708-4fd3-c6d6-8c2c1941b441",
        "colab": {
          "base_uri": "https://localhost:8080/",
          "height": 0
        }
      },
      "execution_count": 84,
      "outputs": [
        {
          "output_type": "stream",
          "name": "stdout",
          "text": [
            "Enter the elements of the tuple, separated by commas: 1,2,3,4,5,6,78\n",
            "Maximum value: 78\n",
            "Minimum value: 1\n"
          ]
        }
      ]
    },
    {
      "cell_type": "code",
      "source": [
        "#28) find union,intersection,difference between two sets\n",
        "\n",
        "set1 = {1, 2, 3, 4, 5}\n",
        "set2 = {4, 5, 6, 7, 8}\n",
        "\n",
        "\n",
        "union_set = set1 | set2\n",
        "\n",
        "intersection_set = set1 & set2\n",
        "\n",
        "difference_set = set1 - set2\n",
        "\n",
        "print(\"Union of the two sets:\", union_set)\n",
        "print(\"Intersection of the two sets:\", intersection_set)\n",
        "print(\"Difference of the two sets (set1 - set2):\", difference_set)"
      ],
      "metadata": {
        "id": "TZZvnAcrF8Ki",
        "outputId": "ab622c15-bb93-4c52-c35b-ccf033c0e324",
        "colab": {
          "base_uri": "https://localhost:8080/",
          "height": 0
        }
      },
      "execution_count": 85,
      "outputs": [
        {
          "output_type": "stream",
          "name": "stdout",
          "text": [
            "Union of the two sets: {1, 2, 3, 4, 5, 6, 7, 8}\n",
            "Intersection of the two sets: {4, 5}\n",
            "Difference of the two sets (set1 - set2): {1, 2, 3}\n"
          ]
        }
      ]
    },
    {
      "cell_type": "code",
      "source": [
        "#29 Write a code that takes a tuple and an element as input.\n",
        "# The function should return the count of occurrences of the given element in the tuple.\n",
        "\n",
        "def count_occurrences(t, element):\n",
        "\n",
        "    count = t.count(element)\n",
        "\n",
        "    return count\n",
        "\n",
        "def get_tuple_from_user(prompt):\n",
        "    input_string = input(prompt)\n",
        "\n",
        "    user_tuple = tuple(map(int, input_string.split(',')))\n",
        "\n",
        "    return user_tuple\n",
        "\n",
        "def get_element_from_user(prompt):\n",
        "    element = int(input(prompt))\n",
        "\n",
        "    return element\n",
        "\n",
        "user_tuple = get_tuple_from_user(\"Enter the elements of the tuple, separated by commas: \")\n",
        "\n",
        "\n",
        "element_to_count = get_element_from_user(\"Enter the element to count in the tuple: \")\n",
        "\n",
        "count = count_occurrences(user_tuple, element_to_count)\n",
        "\n",
        "print(f\"The element {element_to_count} occurs {count} times in the tuple.\")"
      ],
      "metadata": {
        "id": "P3-A3La3GRb7",
        "outputId": "e47a3adc-50a8-45ca-d0c2-60e384bf4a6a",
        "colab": {
          "base_uri": "https://localhost:8080/",
          "height": 0
        }
      },
      "execution_count": 86,
      "outputs": [
        {
          "output_type": "stream",
          "name": "stdout",
          "text": [
            "Enter the elements of the tuple, separated by commas: 20,30,40,20,50\n",
            "Enter the element to count in the tuple: 20\n",
            "The element 20 occurs 2 times in the tuple.\n"
          ]
        }
      ]
    },
    {
      "cell_type": "code",
      "source": [
        "#30) # Write a code that prompts the user to input two sets of strings.Then, print the symmetric difference of these two sets.\n",
        "\n",
        "def symmetric_difference(set1, set2):\n",
        "\n",
        "    return set1 ^ set2\n",
        "\n",
        "def get_set_from_user(prompt):\n",
        "\n",
        "    input_string = input(prompt)\n",
        "\n",
        "    user_set = set(input_string.replace(\" \", \"\").split(','))\n",
        "\n",
        "    return user_set\n",
        "\n",
        "set1 = get_set_from_user(\"Enter the elements of the first set of strings, separated by commas: \")\n",
        "\n",
        "set2 = get_set_from_user(\"Enter the elements of the second set of strings, separated by commas: \")\n",
        "\n",
        "result = symmetric_difference(set1, set2)\n",
        "\n",
        "print(\"Symmetric difference of the two sets:\", result)"
      ],
      "metadata": {
        "id": "vkW3dQRWGVcE",
        "outputId": "7ed4ed76-4ccf-44b7-de7d-93ded032881e",
        "colab": {
          "base_uri": "https://localhost:8080/",
          "height": 0
        }
      },
      "execution_count": 87,
      "outputs": [
        {
          "output_type": "stream",
          "name": "stdout",
          "text": [
            "Enter the elements of the first set of strings, separated by commas: 1,2,3,4,5,6\n",
            "Enter the elements of the second set of strings, separated by commas: 2,4,5,7,8\n",
            "Symmetric difference of the two sets: {'7', '3', '1', '6', '8'}\n"
          ]
        }
      ]
    },
    {
      "cell_type": "code",
      "source": [
        "#31)  Given a list of words, return a dictionary where the keys are the unique words and the values are their frequencies in the list.\n",
        "\n",
        "def count_word_frequencies(word_list):\n",
        "    frequency_dict = {}\n",
        "\n",
        "    for word in word_list:\n",
        "        if word in frequency_dict:\n",
        "            frequency_dict[word] += 1\n",
        "        else:\n",
        "            frequency_dict[word] = 1\n",
        "\n",
        "    return frequency_dict\n",
        "\n",
        "def get_word_list_from_user(prompt):\n",
        "    input_string = input(prompt)\n",
        "\n",
        "    word_list = input_string.split()\n",
        "\n",
        "    return word_list\n",
        "\n",
        "word_list = get_word_list_from_user(\"Enter a list of words separated by spaces: \")\n",
        "\n",
        "word_frequencies = count_word_frequencies(word_list)\n",
        "\n",
        "print(\"Word frequencies:\", word_frequencies)"
      ],
      "metadata": {
        "id": "tx7CREVKGlWp",
        "outputId": "f9055b75-dc5e-4b96-d8dd-c828d89438a9",
        "colab": {
          "base_uri": "https://localhost:8080/",
          "height": 0
        }
      },
      "execution_count": 92,
      "outputs": [
        {
          "output_type": "stream",
          "name": "stdout",
          "text": [
            "Enter a list of words separated by spaces: a a r y a n\n",
            "Word frequencies: {'a': 3, 'r': 1, 'y': 1, 'n': 1}\n"
          ]
        }
      ]
    },
    {
      "cell_type": "code",
      "source": [
        "#32) Merges two dictionaries into a single dictionary.If there are common keys, their values are added together.\n",
        "def merge_dicts(dict1, dict2):\n",
        "    result_dict = {}\n",
        "    for key in dict1:\n",
        "        result_dict[key] = dict1[key]\n",
        "\n",
        "    for key in dict2:\n",
        "        if key in result_dict:\n",
        "            result_dict[key] += dict2[key]\n",
        "        else:\n",
        "            result_dict[key] = dict2[key]\n",
        "\n",
        "    return result_dict\n",
        "\n",
        "def get_dict_from_user(prompt):\n",
        "\n",
        "    input_string = input(prompt)\n",
        "\n",
        "    pairs = input_string.split(',')\n",
        "    user_dict = {}\n",
        "    for pair in pairs:\n",
        "        key, value = pair.split(':')\n",
        "        user_dict[key.strip()] = int(value.strip())  # Convert value to integer\n",
        "\n",
        "    return user_dict\n",
        "\n",
        "dict1 = get_dict_from_user(\"Enter the first dictionary (key:value pairs separated by commas): \")\n",
        "\n",
        "dict2 = get_dict_from_user(\"Enter the second dictionary (key:value pairs separated by commas): \")\n",
        "\n",
        "\n",
        "merged_dict = merge_dicts(dict1, dict2)\n",
        "\n",
        "print(\"Merged dictionary:\", merged_dict)"
      ],
      "metadata": {
        "id": "0NmxbNqfGyfg"
      },
      "execution_count": null,
      "outputs": []
    },
    {
      "cell_type": "code",
      "source": [
        "#33)Write a code to acess a value in a nested dictionary, The function should take the dictionary and a list of keys do not exist in the dictionary,the function should return none.\n",
        "def get_nested_value(dictionary, keys):\n",
        "  \"\"\"Accesses a value in a nested dictionary.\n",
        "\n",
        "  Args:\n",
        "    dictionary: The input dictionary.\n",
        "    keys: A list of keys to follow to reach the desired value.\n",
        "\n",
        "  Returns:\n",
        "    The value if it exists, otherwise None.\n",
        "  \"\"\"\n",
        "\n",
        "  current_dict = dictionary\n",
        "  for key in keys:\n",
        "    if key not in current_dict:\n",
        "      return None\n",
        "    current_dict = current_dict[key]\n",
        "\n",
        "  return current_dict\n",
        "\n",
        "# Example usage\n",
        "my_dict = {\n",
        "    \"level1\": {\n",
        "        \"level2\": {\n",
        "            \"value\": \"found\"\n",
        "        }\n",
        "    }\n",
        "}\n",
        "\n",
        "keys_to_access = [\"level1\", \"level2\", \"value\"]\n",
        "result = get_nested_value(my_dict, keys_to_access)\n",
        "print(result)  # Output: \"found\"\n",
        "\n",
        "keys_to_access = [\"level1\", \"level2\", \"nonexistent\"]\n",
        "result = get_nested_value(my_dict, keys_to_access)\n",
        "print(result)"
      ],
      "metadata": {
        "id": "l3ey1gEEHrQ2"
      },
      "execution_count": null,
      "outputs": []
    },
    {
      "cell_type": "code",
      "source": [
        "#34) Write a code that takes a dictionary as input and returns a sorted version of it based on the values. You can choose whether to sort in ascending or descending order.\n",
        "def sort_dictionary_by_values(dictionary, ascending=True):\n",
        "  sorted_items = sorted(dictionary.items(), key=lambda x: x[1], reverse=not ascending)\n",
        "  return sorted_items\n",
        "\n",
        "# Example usage\n",
        "my_dict = {\"a\": 3, \"b\": 1, \"c\": 2}\n",
        "\n",
        "# Sort in ascending order\n",
        "sorted_dict_ascending = sort_dictionary_by_values(my_dict)\n",
        "print(sorted_dict_ascending)  # Output: [('b', 1), ('c', 2), ('a', 3)]\n",
        "\n",
        "# Sort in descending order\n",
        "sorted_dict_descending = sort_dictionary_by_values(my_dict, ascending=False)\n",
        "print(sorted_dict_descending)"
      ],
      "metadata": {
        "id": "1OINIEd0JTj_"
      },
      "execution_count": null,
      "outputs": []
    },
    {
      "cell_type": "code",
      "source": [
        "#35)  Inverts a dictionary by swapping keys and values.\n",
        "# If multiple keys have the same value, the values in the inverted dictionary are stored as lists.\n",
        "def invert_dict(d):\n",
        "\n",
        "    inverted_dict = {}\n",
        "\n",
        "    for key, value in d.items():\n",
        "        if value in inverted_dict:\n",
        "            inverted_dict[value].append(key)\n",
        "        else:\n",
        "            inverted_dict[value] = [key]\n",
        "\n",
        "    return inverted_dict\n",
        "\n",
        "def get_dict_from_user(prompt):\n",
        "    input_string = input(prompt)\n",
        "    user_dict = {}\n",
        "\n",
        "    pairs = input_string.split(',')\n",
        "    for pair in pairs:\n",
        "        key, value = pair.split(':')\n",
        "        user_dict[key.strip()] = value.strip()\n",
        "\n",
        "    return user_dict\n",
        "\n",
        "user_dict = get_dict_from_user(\"Enter the dictionary (key:value pairs separated by commas): \")\n",
        "\n",
        "inverted_dict = invert_dict(user_dict)\n",
        "\n",
        "print(\"Inverted dictionary:\", inverted_dict)\n"
      ],
      "metadata": {
        "id": "_vDzYWtWKFvW"
      },
      "execution_count": null,
      "outputs": []
    }
  ]
}